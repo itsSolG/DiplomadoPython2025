{
  "nbformat": 4,
  "nbformat_minor": 0,
  "metadata": {
    "colab": {
      "provenance": [],
      "mount_file_id": "1knhBoxUSUJOZs5-lFeanbU6_BbEKlxEs",
      "authorship_tag": "ABX9TyP/jmwa0Wn4UgHhKhBs+M7F",
      "include_colab_link": true
    },
    "kernelspec": {
      "name": "python3",
      "display_name": "Python 3"
    },
    "language_info": {
      "name": "python"
    }
  },
  "cells": [
    {
      "cell_type": "markdown",
      "metadata": {
        "id": "view-in-github",
        "colab_type": "text"
      },
      "source": [
        "<a href=\"https://colab.research.google.com/github/itsSolG/DiplomadoPython2025/blob/main/Diplomado_Python_Sesi%C3%B3n2.ipynb\" target=\"_parent\"><img src=\"https://colab.research.google.com/assets/colab-badge.svg\" alt=\"Open In Colab\"/></a>"
      ]
    },
    {
      "cell_type": "markdown",
      "source": [
        "#Estructuras selectivas if, else, elif\n",
        "\n"
      ],
      "metadata": {
        "id": "e5xwrWjvIwMY"
      }
    },
    {
      "cell_type": "code",
      "execution_count": 3,
      "metadata": {
        "id": "vBq4aEkJIgFh"
      },
      "outputs": [],
      "source": [
        "edad = 17\n",
        "\n",
        "if edad >=18: #True\n",
        "  print('Eres mayor de edad')\n"
      ]
    },
    {
      "cell_type": "code",
      "source": [
        "edad = 17\n",
        "\n",
        "if edad >= 18:\n",
        "  print('Eres mayor de edad')\n",
        "else:\n",
        "  print('Eres menor de edad')"
      ],
      "metadata": {
        "colab": {
          "base_uri": "https://localhost:8080/"
        },
        "id": "tk0PUBRfJHOP",
        "outputId": "2a3eb10e-6b09-48dc-e346-e8b560bfe4cc"
      },
      "execution_count": 2,
      "outputs": [
        {
          "output_type": "stream",
          "name": "stdout",
          "text": [
            "Eres menor de edad\n"
          ]
        }
      ]
    },
    {
      "cell_type": "code",
      "source": [
        "#V2 Mayor o menor de edad\n",
        "edad = int(input('¿Qué edad tienes? '))\n",
        "\n",
        "if edad >= 18:\n",
        "  print('Eres mayor de edad')\n",
        "else:\n",
        "  print('Eres menor de edad')"
      ],
      "metadata": {
        "colab": {
          "base_uri": "https://localhost:8080/"
        },
        "id": "pwPHVlyhKh3B",
        "outputId": "92a4d516-e224-4369-bad8-89901343b526"
      },
      "execution_count": 5,
      "outputs": [
        {
          "output_type": "stream",
          "name": "stdout",
          "text": [
            "¿Qué edad tienes? 60\n",
            "Eres mayor de edad\n"
          ]
        }
      ]
    },
    {
      "cell_type": "code",
      "source": [
        "#Valores str\n",
        "password = input('Introduce tu contraseña: ')\n",
        "\n",
        "if password == 'admin1234':\n",
        "  print('Contraseña válida')\n",
        "else:\n",
        "  print('Contraseña incorrecta')"
      ],
      "metadata": {
        "colab": {
          "base_uri": "https://localhost:8080/"
        },
        "id": "TFGCoOqePMyG",
        "outputId": "af87c54f-8a21-4c62-f03a-3769e03755d8"
      },
      "execution_count": 8,
      "outputs": [
        {
          "output_type": "stream",
          "name": "stdout",
          "text": [
            "Introduce tu contraseña: admin1234\n",
            "Contraseña válida\n"
          ]
        }
      ]
    },
    {
      "cell_type": "code",
      "source": [
        "#Valores float\n",
        "estatura = float(input('Introduce tu estatura en metros: '))\n",
        "\n",
        "if estatura > 1.19:\n",
        "  print('Te puedes subir al destroza cráneos')\n",
        "else:\n",
        "  print('No te puedes subir, intenta en el carrusel')"
      ],
      "metadata": {
        "colab": {
          "base_uri": "https://localhost:8080/"
        },
        "id": "xsPMqfAUQYOD",
        "outputId": "2c62de44-5a71-4c5e-e74d-b04d9db5225a"
      },
      "execution_count": 10,
      "outputs": [
        {
          "output_type": "stream",
          "name": "stdout",
          "text": [
            "Introduce tu estatura en metros: 1.64\n",
            "Te puedes subir al destroza cráneos\n"
          ]
        }
      ]
    },
    {
      "cell_type": "code",
      "source": [
        "calificacion = 85\n",
        "\n",
        "if calificacion >= 90:\n",
        "  print('Excelente')\n",
        "elif calificacion >= 80:\n",
        "  print('Muy bien')\n",
        "elif calificacion >= 70:\n",
        "  print('Bien')\n",
        "else:\n",
        "  print('Reprobado')"
      ],
      "metadata": {
        "colab": {
          "base_uri": "https://localhost:8080/"
        },
        "id": "0ZalwqEHV2SJ",
        "outputId": "bccda114-3f60-4522-fcd7-404d6ab920fc"
      },
      "execution_count": 11,
      "outputs": [
        {
          "output_type": "stream",
          "name": "stdout",
          "text": [
            "Muy bien\n"
          ]
        }
      ]
    },
    {
      "cell_type": "code",
      "source": [
        "numero = int(input('Ingresa un número: '))\n",
        "\n",
        "if numero > 0:\n",
        "  print('El número es positivo')\n",
        "elif numero <0:\n",
        "  print('El número es negativo')\n",
        "else:\n",
        "  print('El número es 0')"
      ],
      "metadata": {
        "colab": {
          "base_uri": "https://localhost:8080/"
        },
        "id": "BvdfSVklXorC",
        "outputId": "a2f032de-8e23-46b6-eab4-b9622a22bdff"
      },
      "execution_count": 15,
      "outputs": [
        {
          "output_type": "stream",
          "name": "stdout",
          "text": [
            "Ingresa un número: -1\n",
            "El número es negativo\n"
          ]
        }
      ]
    },
    {
      "cell_type": "markdown",
      "source": [
        "#Listas, Tuplas y Diccionarios"
      ],
      "metadata": {
        "id": "mHdiXcn_Z5hP"
      }
    },
    {
      "cell_type": "markdown",
      "source": [
        "##Listas"
      ],
      "metadata": {
        "id": "HbDoNuxV88HU"
      }
    },
    {
      "cell_type": "code",
      "source": [
        "frutas = ['uva', 'manzana', 'kiwi', 'fresa', 'plátano']"
      ],
      "metadata": {
        "id": "jmRAIjwZZ-aI"
      },
      "execution_count": 17,
      "outputs": []
    },
    {
      "cell_type": "code",
      "source": [
        "frutas[0]"
      ],
      "metadata": {
        "colab": {
          "base_uri": "https://localhost:8080/",
          "height": 36
        },
        "id": "CAeC8dS0cWzo",
        "outputId": "cb991281-3664-41b5-ec7b-62287f4ffb49"
      },
      "execution_count": 18,
      "outputs": [
        {
          "output_type": "execute_result",
          "data": {
            "text/plain": [
              "'uva'"
            ],
            "application/vnd.google.colaboratory.intrinsic+json": {
              "type": "string"
            }
          },
          "metadata": {},
          "execution_count": 18
        }
      ]
    },
    {
      "cell_type": "code",
      "source": [
        "print(frutas[0])"
      ],
      "metadata": {
        "colab": {
          "base_uri": "https://localhost:8080/"
        },
        "id": "lR-ohwNdchFy",
        "outputId": "fe78f594-7f42-43ea-b79c-ef1c001fad53"
      },
      "execution_count": 19,
      "outputs": [
        {
          "output_type": "stream",
          "name": "stdout",
          "text": [
            "uva\n"
          ]
        }
      ]
    },
    {
      "cell_type": "code",
      "source": [
        "frutas[4]"
      ],
      "metadata": {
        "colab": {
          "base_uri": "https://localhost:8080/",
          "height": 36
        },
        "id": "1lHpIlh3c1kq",
        "outputId": "28ad9e1b-8c53-4dd7-c408-6228a61a324b"
      },
      "execution_count": 20,
      "outputs": [
        {
          "output_type": "execute_result",
          "data": {
            "text/plain": [
              "'plátano'"
            ],
            "application/vnd.google.colaboratory.intrinsic+json": {
              "type": "string"
            }
          },
          "metadata": {},
          "execution_count": 20
        }
      ]
    },
    {
      "cell_type": "code",
      "source": [
        "#frutas = ['uva', 'manzana', 'kiwi', 'fresa', 'plátano']\n",
        "frutas = ['uva', 'manzana', 'kiwi', 'fresa', 'plátano']\n",
        "\n",
        "print(frutas[0])\n",
        "print(frutas[1])\n",
        "print(frutas[2])\n",
        "print(frutas[3])\n",
        "print(frutas[4])"
      ],
      "metadata": {
        "colab": {
          "base_uri": "https://localhost:8080/"
        },
        "id": "upDZKLFdeNyr",
        "outputId": "d8a9298f-c527-4cc2-cc87-88ac0503a975"
      },
      "execution_count": 36,
      "outputs": [
        {
          "output_type": "stream",
          "name": "stdout",
          "text": [
            "uva\n",
            "manzana\n",
            "kiwi\n",
            "fresa\n",
            "plátano\n"
          ]
        }
      ]
    },
    {
      "cell_type": "code",
      "source": [
        "numero = [23, 56, 23, 67, 89, 74]\n",
        "estaturas = [1.2, 1.7, 1.8, 1.9]"
      ],
      "metadata": {
        "id": "U38GJm2GgO3s"
      },
      "execution_count": 22,
      "outputs": []
    },
    {
      "cell_type": "code",
      "source": [
        "mix = [32, 3.1415, 'Marisol', False]\n",
        "\n",
        "print(mix[0], type(mix[0]))\n",
        "print(mix[1], type(mix[1]))\n",
        "print(mix[2], type(mix[2]))\n",
        "print(mix[3], type(mix[3]))\n"
      ],
      "metadata": {
        "colab": {
          "base_uri": "https://localhost:8080/"
        },
        "id": "gTx11d_kg5fy",
        "outputId": "88182162-ade8-4e88-ecb1-18f137649afb"
      },
      "execution_count": 25,
      "outputs": [
        {
          "output_type": "stream",
          "name": "stdout",
          "text": [
            "32 <class 'int'>\n",
            "3.1415 <class 'float'>\n",
            "Marisol <class 'str'>\n",
            "False <class 'bool'>\n"
          ]
        }
      ]
    },
    {
      "cell_type": "code",
      "source": [
        "frutas[0] = 'pera' #Modificación de variable\n",
        "frutas[0]"
      ],
      "metadata": {
        "colab": {
          "base_uri": "https://localhost:8080/",
          "height": 36
        },
        "id": "LSmVMC-RhO-m",
        "outputId": "e50a8bad-718f-4bdc-e5bc-b0e013826f9e"
      },
      "execution_count": 37,
      "outputs": [
        {
          "output_type": "execute_result",
          "data": {
            "text/plain": [
              "'pera'"
            ],
            "application/vnd.google.colaboratory.intrinsic+json": {
              "type": "string"
            }
          },
          "metadata": {},
          "execution_count": 37
        }
      ]
    },
    {
      "cell_type": "code",
      "source": [
        "frutas"
      ],
      "metadata": {
        "colab": {
          "base_uri": "https://localhost:8080/"
        },
        "id": "iBji4p9giIIK",
        "outputId": "4f01a2d2-847a-4dbb-d3c8-c98564c4220e"
      },
      "execution_count": 29,
      "outputs": [
        {
          "output_type": "execute_result",
          "data": {
            "text/plain": [
              "['pera', 'manzana', 'kiwi', 'fresa', 'plátano']"
            ]
          },
          "metadata": {},
          "execution_count": 29
        }
      ]
    },
    {
      "cell_type": "markdown",
      "source": [
        "###Métodos de listas"
      ],
      "metadata": {
        "id": "P0NWKvw6jJ4k"
      }
    },
    {
      "cell_type": "markdown",
      "source": [
        "###Método append()"
      ],
      "metadata": {
        "id": "xOdaYKSHjbjl"
      }
    },
    {
      "cell_type": "code",
      "source": [
        "# método append(), agrega un elemento al final de la lista\n",
        "frutas.append('uva') #ejecutar una única vez"
      ],
      "metadata": {
        "id": "RHpwDdqnjMpT"
      },
      "execution_count": 38,
      "outputs": []
    },
    {
      "cell_type": "code",
      "source": [
        "frutas # por esto append sólo se ejecuta una vez"
      ],
      "metadata": {
        "colab": {
          "base_uri": "https://localhost:8080/"
        },
        "id": "Fcr-CYzAjYCw",
        "outputId": "af73002a-4f7f-4dea-c2e2-8ad9902fac63"
      },
      "execution_count": 35,
      "outputs": [
        {
          "output_type": "execute_result",
          "data": {
            "text/plain": [
              "['pera', 'manzana', 'kiwi', 'fresa', 'plátano', 'uva', 'uva', 'uva', 'uva']"
            ]
          },
          "metadata": {},
          "execution_count": 35
        }
      ]
    },
    {
      "cell_type": "code",
      "source": [
        "frutas # corrección"
      ],
      "metadata": {
        "colab": {
          "base_uri": "https://localhost:8080/"
        },
        "id": "5SlimlaQj0oZ",
        "outputId": "4899312b-a0e2-499e-f88a-808624e044bc"
      },
      "execution_count": 39,
      "outputs": [
        {
          "output_type": "execute_result",
          "data": {
            "text/plain": [
              "['pera', 'manzana', 'kiwi', 'fresa', 'plátano', 'uva']"
            ]
          },
          "metadata": {},
          "execution_count": 39
        }
      ]
    },
    {
      "cell_type": "markdown",
      "source": [
        "###Método .copy()"
      ],
      "metadata": {
        "id": "Mx_j97SonZN0"
      }
    },
    {
      "cell_type": "markdown",
      "source": [
        "Es posible crear una lista copia de la original que respalde los datos de la original"
      ],
      "metadata": {
        "id": "qshymRhilEHe"
      }
    },
    {
      "cell_type": "code",
      "source": [
        "# Método copy()\n",
        "lista_original = [1, 2, 3, 4, 5]\n",
        "copia_original = lista_original.copy()\n",
        "\n",
        "copia_original.append(6)\n",
        "print(lista_original)\n",
        "print(copia_original)\n"
      ],
      "metadata": {
        "colab": {
          "base_uri": "https://localhost:8080/"
        },
        "id": "fgbiqltqlPBR",
        "outputId": "b3be2263-9b37-481a-9d2b-65ac5fc655f1"
      },
      "execution_count": 40,
      "outputs": [
        {
          "output_type": "stream",
          "name": "stdout",
          "text": [
            "[1, 2, 3, 4, 5]\n",
            "[1, 2, 3, 4, 5, 6]\n"
          ]
        }
      ]
    },
    {
      "cell_type": "markdown",
      "source": [
        "###Método .insert()"
      ],
      "metadata": {
        "id": "b7Snsf6GndpQ"
      }
    },
    {
      "cell_type": "code",
      "source": [
        "# Método insert()\n",
        "frutas.insert(3, 'arándano') # no ejecutar dos veces\n",
        "frutas"
      ],
      "metadata": {
        "colab": {
          "base_uri": "https://localhost:8080/"
        },
        "id": "s6ECaZaKnhrU",
        "outputId": "5da613c9-9c12-416a-962c-b13c69d4b274"
      },
      "execution_count": 42,
      "outputs": [
        {
          "output_type": "execute_result",
          "data": {
            "text/plain": [
              "['pera', 'manzana', 'kiwi', 'arándano', 'arándan', 'fresa', 'plátano', 'uva']"
            ]
          },
          "metadata": {},
          "execution_count": 42
        }
      ]
    },
    {
      "cell_type": "markdown",
      "source": [
        "###Método .remove()"
      ],
      "metadata": {
        "id": "OgAhzNLPn8VM"
      }
    },
    {
      "cell_type": "code",
      "source": [
        "# Método remove()\n",
        "frutas.remove('arándan')\n",
        "frutas"
      ],
      "metadata": {
        "colab": {
          "base_uri": "https://localhost:8080/"
        },
        "id": "YlCw4ri4oCSB",
        "outputId": "c7502098-0ce0-4d1b-ae02-1ba4e55aebc2"
      },
      "execution_count": 43,
      "outputs": [
        {
          "output_type": "execute_result",
          "data": {
            "text/plain": [
              "['pera', 'manzana', 'kiwi', 'arándano', 'fresa', 'plátano', 'uva']"
            ]
          },
          "metadata": {},
          "execution_count": 43
        }
      ]
    },
    {
      "cell_type": "markdown",
      "source": [
        "###Método .pop()"
      ],
      "metadata": {
        "id": "Q6AFsS_foObo"
      }
    },
    {
      "cell_type": "code",
      "source": [
        "#Método pop()\n",
        "frutas.pop() #eliminará uva\n",
        "frutas"
      ],
      "metadata": {
        "colab": {
          "base_uri": "https://localhost:8080/"
        },
        "id": "umkaFhzhoMGh",
        "outputId": "604801b6-b8b8-4d22-b9cf-d8a23da882a4"
      },
      "execution_count": 44,
      "outputs": [
        {
          "output_type": "execute_result",
          "data": {
            "text/plain": [
              "['pera', 'manzana', 'kiwi', 'arándano', 'fresa', 'plátano']"
            ]
          },
          "metadata": {},
          "execution_count": 44
        }
      ]
    },
    {
      "cell_type": "markdown",
      "source": [
        "###Función len(), max(), min()"
      ],
      "metadata": {
        "id": "n8x35uAkrVk4"
      }
    },
    {
      "cell_type": "code",
      "source": [
        "num = [12, 34, 56, 25, 16, 23, 67, 78, 89, 67, 12, 37]\n",
        "len(num)"
      ],
      "metadata": {
        "colab": {
          "base_uri": "https://localhost:8080/"
        },
        "id": "_5UamZJwrylC",
        "outputId": "980d5ec6-3bc3-47c8-ee03-b738734447a9"
      },
      "execution_count": 48,
      "outputs": [
        {
          "output_type": "execute_result",
          "data": {
            "text/plain": [
              "12"
            ]
          },
          "metadata": {},
          "execution_count": 48
        }
      ]
    },
    {
      "cell_type": "code",
      "source": [
        "max(num)"
      ],
      "metadata": {
        "colab": {
          "base_uri": "https://localhost:8080/"
        },
        "id": "fBwqx-KVsMhc",
        "outputId": "b7aaed22-c33d-4b57-97d5-17611a66289d"
      },
      "execution_count": 50,
      "outputs": [
        {
          "output_type": "execute_result",
          "data": {
            "text/plain": [
              "89"
            ]
          },
          "metadata": {},
          "execution_count": 50
        }
      ]
    },
    {
      "cell_type": "code",
      "source": [
        "min(num)"
      ],
      "metadata": {
        "colab": {
          "base_uri": "https://localhost:8080/"
        },
        "id": "imRWu6BNsTNP",
        "outputId": "068ed50e-e0e2-4f66-bfb2-d3586a981c55"
      },
      "execution_count": 51,
      "outputs": [
        {
          "output_type": "execute_result",
          "data": {
            "text/plain": [
              "12"
            ]
          },
          "metadata": {},
          "execution_count": 51
        }
      ]
    },
    {
      "cell_type": "markdown",
      "source": [
        "###Método .sort()"
      ],
      "metadata": {
        "id": "xrK9Cc5LsVrx"
      }
    },
    {
      "cell_type": "markdown",
      "source": [
        "Cuando usamos datos o introducimos datos en una función o método se denomida 'argumento'"
      ],
      "metadata": {
        "id": "bnrCRR12s2fV"
      }
    },
    {
      "cell_type": "code",
      "source": [
        "# Método .sort()\n",
        "num.sort() # ordenamiento de menor a mayor\n",
        "num"
      ],
      "metadata": {
        "colab": {
          "base_uri": "https://localhost:8080/"
        },
        "id": "cB2JPY0lsr2T",
        "outputId": "c82fc565-6f7e-49ff-ebdc-b02b8b7e4f64"
      },
      "execution_count": 54,
      "outputs": [
        {
          "output_type": "execute_result",
          "data": {
            "text/plain": [
              "[12, 12, 16, 23, 25, 34, 37, 56, 67, 67, 78, 89]"
            ]
          },
          "metadata": {},
          "execution_count": 54
        }
      ]
    },
    {
      "cell_type": "markdown",
      "source": [
        "####Ordenamiento .sort(reverse = True) -*mayor a menor*"
      ],
      "metadata": {
        "id": "nIy1mkgJtVD0"
      }
    },
    {
      "cell_type": "code",
      "source": [
        "num.sort(reverse = True) #ordenamiento de mayor a menor\n",
        "num"
      ],
      "metadata": {
        "colab": {
          "base_uri": "https://localhost:8080/"
        },
        "id": "_wZhMx0mtIWs",
        "outputId": "a103251c-89cb-45f3-fb48-886d6a2748b7"
      },
      "execution_count": 56,
      "outputs": [
        {
          "output_type": "execute_result",
          "data": {
            "text/plain": [
              "[89, 78, 67, 67, 56, 37, 34, 25, 23, 16, 12, 12]"
            ]
          },
          "metadata": {},
          "execution_count": 56
        }
      ]
    },
    {
      "cell_type": "markdown",
      "source": [
        "##Diccionarios"
      ],
      "metadata": {
        "id": "rGm7JWc2yovh"
      }
    },
    {
      "cell_type": "markdown",
      "source": [
        "árbol: planta...\n",
        "lenguaje: forma de comunicación...\n",
        "clave: valor"
      ],
      "metadata": {
        "id": "m_MGTXogyv5g"
      }
    },
    {
      "cell_type": "code",
      "source": [
        "persona = {\n",
        "    'nombre': 'Marisol',\n",
        "    'edad': 32,\n",
        "    'estatura': 1.65,\n",
        "    'ciudad': 'Villahermosa',\n",
        "    'género': 'Femenino',\n",
        "    'estudiante': False\n",
        "}"
      ],
      "metadata": {
        "id": "oNzOHoNezASO"
      },
      "execution_count": 64,
      "outputs": []
    },
    {
      "cell_type": "code",
      "source": [
        "print(persona['nombre'])\n",
        "print(persona['edad'])\n",
        "print(persona['estatura'])\n",
        "print(persona['ciudad'])\n",
        "print(persona['género'])\n",
        "print(persona['estudiante'])"
      ],
      "metadata": {
        "colab": {
          "base_uri": "https://localhost:8080/"
        },
        "id": "bQvWVBEVzc9F",
        "outputId": "a60eaa14-470b-43fa-b91e-ea5148045659"
      },
      "execution_count": 65,
      "outputs": [
        {
          "output_type": "stream",
          "name": "stdout",
          "text": [
            "Marisol\n",
            "32\n",
            "1.65\n",
            "Villahermosa\n",
            "Femenino\n",
            "False\n"
          ]
        }
      ]
    },
    {
      "cell_type": "markdown",
      "source": [
        "#####Modificar valor"
      ],
      "metadata": {
        "id": "8tmi4KsM2h6s"
      }
    },
    {
      "cell_type": "code",
      "source": [
        "# Modificar valor\n",
        "\n",
        "persona['edad'] = 23\n",
        "persona"
      ],
      "metadata": {
        "colab": {
          "base_uri": "https://localhost:8080/"
        },
        "id": "zzAK9lDC0q54",
        "outputId": "0c380768-bff0-4408-fc52-a307554eb0c6"
      },
      "execution_count": 67,
      "outputs": [
        {
          "output_type": "execute_result",
          "data": {
            "text/plain": [
              "{'nombre': 'Marisol',\n",
              " 'edad': 23,\n",
              " 'estatura': 1.65,\n",
              " 'ciudad': 'Villahermosa',\n",
              " 'género': 'Femenino',\n",
              " 'estudiante': False}"
            ]
          },
          "metadata": {},
          "execution_count": 67
        }
      ]
    },
    {
      "cell_type": "markdown",
      "source": [
        "###Lista de Diccionarios"
      ],
      "metadata": {
        "id": "d459gJL821zQ"
      }
    },
    {
      "cell_type": "code",
      "source": [
        "#Lista de Diccionarios\n",
        "\n",
        "personas = [\n",
        "    {'nombre': 'Marisol', 'edad': 22},\n",
        "    {'nombre': 'Marco', 'edad': 32},\n",
        "    {'nombre': 'Raquel', 'edad':25}\n",
        "]\n",
        "\n",
        "personas"
      ],
      "metadata": {
        "colab": {
          "base_uri": "https://localhost:8080/"
        },
        "id": "LPkk4f1W27J0",
        "outputId": "c90039f0-415a-4c7f-9c01-f698a55d29e2"
      },
      "execution_count": 68,
      "outputs": [
        {
          "output_type": "execute_result",
          "data": {
            "text/plain": [
              "[{'nombre': 'Marisol', 'edad': 22},\n",
              " {'nombre': 'Marco', 'edad': 32},\n",
              " {'nombre': 'Raquel', 'edad': 25}]"
            ]
          },
          "metadata": {},
          "execution_count": 68
        }
      ]
    },
    {
      "cell_type": "markdown",
      "source": [
        "####Ejemplo de impresión con ciclo for"
      ],
      "metadata": {
        "id": "ztUMJ0dO3oza"
      }
    },
    {
      "cell_type": "code",
      "source": [
        "for i in personas:\n",
        "  print(f\"nombre: {i['nombre']}, edad: {i['edad']}\")"
      ],
      "metadata": {
        "colab": {
          "base_uri": "https://localhost:8080/"
        },
        "id": "_FS2foNL366i",
        "outputId": "cfac0e70-a2aa-451a-f8ef-004a9a44b0b6"
      },
      "execution_count": 73,
      "outputs": [
        {
          "output_type": "stream",
          "name": "stdout",
          "text": [
            "nombre: Marisol, edad: 22\n",
            "nombre: Marco, edad: 32\n",
            "nombre: Raquel, edad: 25\n"
          ]
        }
      ]
    },
    {
      "cell_type": "markdown",
      "source": [
        "#Errores"
      ],
      "metadata": {
        "id": "l81TFPB7otsl"
      }
    },
    {
      "cell_type": "markdown",
      "source": [
        "```\n",
        "SytaxError - Sintaxis\n",
        "IndexError - Elementos de lista\n",
        "ValueError - El valor no existe\n",
        "TypeError - Tipo de dato\n",
        "KeyError - Accesos a elementos de la librería\n",
        "```"
      ],
      "metadata": {
        "id": "KOd-8JbGow4_"
      }
    }
  ]
}