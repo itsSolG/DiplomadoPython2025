{
  "nbformat": 4,
  "nbformat_minor": 0,
  "metadata": {
    "colab": {
      "provenance": [],
      "include_colab_link": true
    },
    "kernelspec": {
      "name": "python3",
      "display_name": "Python 3"
    },
    "language_info": {
      "name": "python"
    }
  },
  "cells": [
    {
      "cell_type": "markdown",
      "metadata": {
        "id": "view-in-github",
        "colab_type": "text"
      },
      "source": [
        "<a href=\"https://colab.research.google.com/github/itsSolG/DiplomadoPython2025/blob/main/PythonDiplomado_Sesion1.ipynb\" target=\"_parent\"><img src=\"https://colab.research.google.com/assets/colab-badge.svg\" alt=\"Open In Colab\"/></a>"
      ]
    },
    {
      "cell_type": "markdown",
      "source": [
        "##Introducción a los tipos de datos, variables y operaciones aritméticas en Python\n",
        "\n"
      ],
      "metadata": {
        "id": "pjEd06YTnLS3"
      }
    },
    {
      "cell_type": "markdown",
      "source": [
        "**1.Variables en Python**\n",
        "\n",
        "Una variable es un contenedor para almacenar datos. En Python, no es necesario especificar el tipo de la variable, ya que el lenguaje usa tipado dinámico."
      ],
      "metadata": {
        "id": "z67be5Txnkuo"
      }
    },
    {
      "cell_type": "code",
      "execution_count": null,
      "metadata": {
        "id": "iv-lqABgIs45"
      },
      "outputs": [],
      "source": [
        "numero = 10 #entero int\n",
        "precio = 7.90 #float\n",
        "nombre = \"Marisol\" #string\n",
        "estado_logico = True #booleano"
      ]
    },
    {
      "cell_type": "code",
      "source": [
        "print(numero,type(numero))\n",
        "print(precio,type(precio))\n",
        "print(nombre,type(nombre))\n",
        "print(estado_logico,type(estado_logico))"
      ],
      "metadata": {
        "colab": {
          "base_uri": "https://localhost:8080/"
        },
        "id": "frIxJBfnoEtE",
        "outputId": "24351b4f-3ff6-4d0c-cad4-acf311ba8443"
      },
      "execution_count": null,
      "outputs": [
        {
          "output_type": "stream",
          "name": "stdout",
          "text": [
            "10 <class 'int'>\n",
            "7.9 <class 'float'>\n",
            "Marisol <class 'str'>\n",
            "True <class 'bool'>\n"
          ]
        }
      ]
    },
    {
      "cell_type": "markdown",
      "source": [
        "Hemos usado función\n",
        "\n",
        "```\n",
        "Print()\n",
        "Type()\n",
        "\n",
        "```\n",
        "\n"
      ],
      "metadata": {
        "id": "VKRrs_zZs7b9"
      }
    },
    {
      "cell_type": "code",
      "source": [
        "print(numero)\n",
        "print(precio)\n",
        "print(nombre)\n",
        "print(estado_logico)"
      ],
      "metadata": {
        "colab": {
          "base_uri": "https://localhost:8080/"
        },
        "id": "qchvUMDhtfoD",
        "outputId": "2aaf2b7f-187b-4328-d536-61e0fed5f462"
      },
      "execution_count": null,
      "outputs": [
        {
          "output_type": "stream",
          "name": "stdout",
          "text": [
            "10\n",
            "7.9\n",
            "Marisol\n",
            "True\n"
          ]
        }
      ]
    },
    {
      "cell_type": "code",
      "source": [
        "numero = 10\n",
        "numero2 = 7\n",
        "\n",
        "suma = numero + numero2\n",
        "resta = numero - numero2\n",
        "multiplicacion = numero * numero2\n",
        "division = numero / numero2\n",
        "division_entera = numero // numero2\n",
        "potencia = numero ** numero2\n",
        "modulo = numero % numero2\n",
        "\n",
        "print(\"La suma es\" , suma)\n",
        "print (\"La resta es\" , resta)\n",
        "print (\"La multiplicacion es\" , multiplicacion)\n",
        "print (\"La division es\" , division)\n",
        "print (\"La division entera es\" , division_entera)\n",
        "print (\"La potencia es\" , potencia)\n",
        "print (\"El modulo es\" , modulo)"
      ],
      "metadata": {
        "colab": {
          "base_uri": "https://localhost:8080/"
        },
        "id": "3zOu81kfvd8i",
        "outputId": "29e24b3c-f308-4020-9b64-20b8fb47f3f4"
      },
      "execution_count": null,
      "outputs": [
        {
          "output_type": "stream",
          "name": "stdout",
          "text": [
            "La suma es 17\n",
            "La resta es 3\n",
            "La multiplicacion es 70\n",
            "La division es 1.4285714285714286\n",
            "La division entera es 1\n",
            "La potencia es 10000000\n",
            "El modulo es 3\n"
          ]
        }
      ]
    }
  ]
}