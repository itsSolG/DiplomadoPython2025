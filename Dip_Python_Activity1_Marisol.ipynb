{
  "nbformat": 4,
  "nbformat_minor": 0,
  "metadata": {
    "colab": {
      "provenance": [],
      "include_colab_link": true
    },
    "kernelspec": {
      "name": "python3",
      "display_name": "Python 3"
    },
    "language_info": {
      "name": "python"
    }
  },
  "cells": [
    {
      "cell_type": "markdown",
      "metadata": {
        "id": "view-in-github",
        "colab_type": "text"
      },
      "source": [
        "<a href=\"https://colab.research.google.com/github/itsSolG/DiplomadoPython2025/blob/main/Dip_Python_Activity1_Marisol.ipynb\" target=\"_parent\"><img src=\"https://colab.research.google.com/assets/colab-badge.svg\" alt=\"Open In Colab\"/></a>"
      ]
    },
    {
      "cell_type": "markdown",
      "source": [
        "# **ACTIVIDAD - SESIÓN 1**"
      ],
      "metadata": {
        "id": "QuCHJt6QvLCK"
      }
    },
    {
      "cell_type": "markdown",
      "source": [
        "##Ejercicio 1: Declaración de variables"
      ],
      "metadata": {
        "id": "wgRHiqLwviYW"
      }
    },
    {
      "cell_type": "code",
      "execution_count": null,
      "metadata": {
        "colab": {
          "base_uri": "https://localhost:8080/"
        },
        "id": "rzJgCbSAu9lS",
        "outputId": "2bea1f18-4ca1-47ec-8b26-eed48d0e88ba"
      },
      "outputs": [
        {
          "output_type": "stream",
          "name": "stdout",
          "text": [
            "Los Ángeles <class 'str'>\n",
            "3821000 <class 'int'>\n",
            "18.0 <class 'float'>\n",
            "False <class 'bool'>\n"
          ]
        }
      ],
      "source": [
        "ciudad = \"Los Ángeles\"\n",
        "cantHabitantes = 3821000\n",
        "temperatura_c = 18.00\n",
        "capital = False\n",
        "\n",
        "print(ciudad, type(ciudad))\n",
        "print(cantHabitantes, type(cantHabitantes))\n",
        "print(temperatura_c, type(temperatura_c))\n",
        "print(capital, type(capital))"
      ]
    },
    {
      "cell_type": "markdown",
      "source": [
        "##Ejercicio 2: Cálculo de área y perímetro de rectángulo"
      ],
      "metadata": {
        "id": "kqcfo-0eyAeO"
      }
    },
    {
      "cell_type": "code",
      "source": [
        "base = 15\n",
        "altura = 20\n",
        "\n",
        "area = (base * altura)\n",
        "perimetro = ((base + altura) *2)\n",
        "\n",
        "print(\"El área del rectángulo es:\", area)\n",
        "print(\"El perímetro del rectángulo es:\", perimetro)"
      ],
      "metadata": {
        "colab": {
          "base_uri": "https://localhost:8080/"
        },
        "id": "uzAJ6aq3yLxp",
        "outputId": "475b47f9-2eaf-48c4-a2d0-9a258e2cf901"
      },
      "execution_count": null,
      "outputs": [
        {
          "output_type": "stream",
          "name": "stdout",
          "text": [
            "El área del rectángulo es: 300\n",
            "El perímetro del rectángulo es: 70\n"
          ]
        }
      ]
    },
    {
      "cell_type": "markdown",
      "source": [
        "##Ejercicio 3: Conversión de horas a minutos y segundos"
      ],
      "metadata": {
        "id": "glW1XDj4zGiN"
      }
    },
    {
      "cell_type": "code",
      "source": [
        "horas = 8\n",
        "\n",
        "minutos = (horas*60)\n",
        "segundos = (minutos * 60)\n",
        "\n",
        "print(horas, \"horas equivalen a:\", minutos, \"minutos\")\n",
        "print(horas, \"horas equivalen a:\", segundos, \"segundos\")"
      ],
      "metadata": {
        "colab": {
          "base_uri": "https://localhost:8080/"
        },
        "id": "oS5grAGLzL1_",
        "outputId": "81c59df4-d9e8-46b0-ae65-73eacebd72e6"
      },
      "execution_count": null,
      "outputs": [
        {
          "output_type": "stream",
          "name": "stdout",
          "text": [
            "8 horas equivalen a: 480 minutos\n",
            "8 horas equivalen a: 28800 segundos\n"
          ]
        }
      ]
    },
    {
      "cell_type": "markdown",
      "source": [
        "##Ejercicio 4: Promedio de tres números"
      ],
      "metadata": {
        "id": "WY4-lT_K0I5R"
      }
    },
    {
      "cell_type": "code",
      "source": [
        "valor1 = 48.2\n",
        "valor2 = 103.4\n",
        "valor3 = 70\n",
        "\n",
        "promedio = ((valor1 + valor2 + valor3)/3)\n",
        "\n",
        "print(\"El promedio de\", valor1, \",\", valor2,\"y\", valor3, \"es =\", promedio)"
      ],
      "metadata": {
        "colab": {
          "base_uri": "https://localhost:8080/"
        },
        "id": "BzG9mUpQ0O3q",
        "outputId": "0514de25-c387-49c9-ccb6-c4f022163e42"
      },
      "execution_count": null,
      "outputs": [
        {
          "output_type": "stream",
          "name": "stdout",
          "text": [
            "El promedio de 48.2 , 103.4 y 70 es = 73.86666666666667\n"
          ]
        }
      ]
    },
    {
      "cell_type": "markdown",
      "source": [
        "##Ejercicio 5: Operaciones combinadas"
      ],
      "metadata": {
        "id": "QwgkuYEl1BoL"
      }
    },
    {
      "cell_type": "code",
      "source": [
        "a = 8\n",
        "b = 4\n",
        "c = 2\n",
        "\n",
        "resultado1 = ((a + b)*c)\n",
        "resultado2 = (a/(b+c))\n",
        "resultado3 = (a**c - b)\n",
        "\n",
        "print(resultado1)\n",
        "print(resultado2)\n",
        "print(resultado3)"
      ],
      "metadata": {
        "colab": {
          "base_uri": "https://localhost:8080/"
        },
        "id": "sD4GJaNq1FgX",
        "outputId": "b5818ff4-d6ae-4857-a72f-760d5ff536d6"
      },
      "execution_count": null,
      "outputs": [
        {
          "output_type": "stream",
          "name": "stdout",
          "text": [
            "24\n",
            "1.3333333333333333\n",
            "60\n"
          ]
        }
      ]
    }
  ]
}