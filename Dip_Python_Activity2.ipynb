{
  "nbformat": 4,
  "nbformat_minor": 0,
  "metadata": {
    "colab": {
      "provenance": [],
      "authorship_tag": "ABX9TyM2XJ/JLrvQgO+qLHRFcC1T",
      "include_colab_link": true
    },
    "kernelspec": {
      "name": "python3",
      "display_name": "Python 3"
    },
    "language_info": {
      "name": "python"
    }
  },
  "cells": [
    {
      "cell_type": "markdown",
      "metadata": {
        "id": "view-in-github",
        "colab_type": "text"
      },
      "source": [
        "<a href=\"https://colab.research.google.com/github/itsSolG/DiplomadoPython2025/blob/main/Dip_Python_Activity2.ipynb\" target=\"_parent\"><img src=\"https://colab.research.google.com/assets/colab-badge.svg\" alt=\"Open In Colab\"/></a>"
      ]
    },
    {
      "cell_type": "markdown",
      "source": [
        "# **Actividad - Sesión 2**"
      ],
      "metadata": {
        "id": "_uf17zxmEJ51"
      }
    },
    {
      "cell_type": "markdown",
      "source": [
        "##**Ejercicio 1. Lista de 5 números - Mostrar mayor y menor número.**"
      ],
      "metadata": {
        "id": "wHBLiRmJEi6z"
      }
    },
    {
      "cell_type": "code",
      "execution_count": 10,
      "metadata": {
        "colab": {
          "base_uri": "https://localhost:8080/"
        },
        "id": "jvz12hseDzzj",
        "outputId": "0aaf34f6-4552-424f-b84b-7a5de8a95c50"
      },
      "outputs": [
        {
          "output_type": "stream",
          "name": "stdout",
          "text": [
            "El número mayor de la lista es 356.\n"
          ]
        }
      ],
      "source": [
        "num = [3, 88, 0, 356, -2]\n",
        "\n",
        "print(f'El número mayor de la lista es {max(num)}.')"
      ]
    },
    {
      "cell_type": "code",
      "source": [
        "print(f'El número menor de la lista es {min(num)}.')"
      ],
      "metadata": {
        "colab": {
          "base_uri": "https://localhost:8080/"
        },
        "id": "MWWRffh_N-z8",
        "outputId": "60dc8545-df53-43ae-940f-6d8106765fe1"
      },
      "execution_count": 12,
      "outputs": [
        {
          "output_type": "stream",
          "name": "stdout",
          "text": [
            "El número menor de la lista es -2.\n"
          ]
        }
      ]
    },
    {
      "cell_type": "markdown",
      "source": [
        "##**Ejercicio 2. Diccionario de estudiante con clave carrera.**"
      ],
      "metadata": {
        "id": "t6Kac2C3OWrm"
      }
    },
    {
      "cell_type": "code",
      "source": [
        "estudiante = {\n",
        "    'nombre' : 'Marisol García',\n",
        "    'edad' : 22,\n",
        "    'promedio': 9.5\n",
        "}\n",
        "\n",
        "estudiante\n"
      ],
      "metadata": {
        "colab": {
          "base_uri": "https://localhost:8080/"
        },
        "id": "oFP67cXSOhw5",
        "outputId": "0c3348c2-2f56-4341-deb1-8a57dd4e7fd0"
      },
      "execution_count": 13,
      "outputs": [
        {
          "output_type": "execute_result",
          "data": {
            "text/plain": [
              "{'nombre': 'Marisol García', 'edad': 22, 'promedio': 9.5}"
            ]
          },
          "metadata": {},
          "execution_count": 13
        }
      ]
    },
    {
      "cell_type": "code",
      "source": [
        "estudiante ['carrera'] = 'Ingeniería en Sistemas' # Agregar clave carrera\n",
        "\n",
        "print('Nombre: ', estudiante ['nombre'])\n",
        "print('Edad:', estudiante ['edad'])\n",
        "print('Promedio:', estudiante ['promedio'])\n",
        "print('Carrera:', estudiante ['carrera'])\n"
      ],
      "metadata": {
        "colab": {
          "base_uri": "https://localhost:8080/"
        },
        "id": "7f_tLgSiQtK4",
        "outputId": "a2ff9ed5-1571-49fc-d644-93f44ca92ee4"
      },
      "execution_count": 18,
      "outputs": [
        {
          "output_type": "stream",
          "name": "stdout",
          "text": [
            "Nombre:  Marisol García\n",
            "Edad: 22\n",
            "Promedio: 9.5\n",
            "Carrera: Ingeniería en Sistemas\n"
          ]
        }
      ]
    },
    {
      "cell_type": "markdown",
      "source": [
        "##**Ejercicio 3. Clasificación del clima**"
      ],
      "metadata": {
        "id": "ZpH9TmArRlrg"
      }
    },
    {
      "cell_type": "code",
      "source": [
        "temp = int(input('Ingrese la temperatura en °C (grados Celsius): '))\n",
        "\n",
        "if temp > 25:\n",
        "  print('Clima caluroso')\n",
        "elif temp >= 15:\n",
        "  print('Clima templado')\n",
        "else:\n",
        "  print('Clima frío')"
      ],
      "metadata": {
        "colab": {
          "base_uri": "https://localhost:8080/"
        },
        "id": "sxInwk3vRq9E",
        "outputId": "ab47efde-0961-456b-dd83-7088078cf15f"
      },
      "execution_count": 28,
      "outputs": [
        {
          "output_type": "stream",
          "name": "stdout",
          "text": [
            "Ingrese la temperatura en °C (grados Celsius): 26\n",
            "Clima caluroso\n"
          ]
        }
      ]
    },
    {
      "cell_type": "markdown",
      "source": [
        "##**Ejercicio 4. Clasificación de edades**"
      ],
      "metadata": {
        "id": "XINh6NMGTkwT"
      }
    },
    {
      "cell_type": "code",
      "source": [
        "edad = int(input('Ingrese la edad: '))\n",
        "\n",
        "if edad >= 65:\n",
        "  print('Adulto mayor')\n",
        "elif edad >= 18:\n",
        "  print('Adulto')\n",
        "elif edad >= 13:\n",
        "  print('Adolescente')\n",
        "else:\n",
        "  print('Niño')"
      ],
      "metadata": {
        "colab": {
          "base_uri": "https://localhost:8080/"
        },
        "id": "SFkaSmLwTiXv",
        "outputId": "beb397c9-7bc5-4c8f-838a-8c303fd5c365"
      },
      "execution_count": 39,
      "outputs": [
        {
          "output_type": "stream",
          "name": "stdout",
          "text": [
            "Ingrese la edad: 13\n",
            "Adolescente\n"
          ]
        }
      ]
    }
  ]
}