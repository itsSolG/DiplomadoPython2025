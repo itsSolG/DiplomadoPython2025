{
  "nbformat": 4,
  "nbformat_minor": 0,
  "metadata": {
    "colab": {
      "provenance": [],
      "mount_file_id": "1knhBoxUSUJOZs5-lFeanbU6_BbEKlxEs",
      "authorship_tag": "ABX9TyNX9ZpjZn6NWVXBe2B3sS8q",
      "include_colab_link": true
    },
    "kernelspec": {
      "name": "python3",
      "display_name": "Python 3"
    },
    "language_info": {
      "name": "python"
    }
  },
  "cells": [
    {
      "cell_type": "markdown",
      "metadata": {
        "id": "view-in-github",
        "colab_type": "text"
      },
      "source": [
        "<a href=\"https://colab.research.google.com/github/itsSolG/DiplomadoPython2025/blob/main/Diplomado_Python_S2.ipynb\" target=\"_parent\"><img src=\"https://colab.research.google.com/assets/colab-badge.svg\" alt=\"Open In Colab\"/></a>"
      ]
    },
    {
      "cell_type": "markdown",
      "source": [
        "#Estructuras selectivas if, else, elif\n",
        "\n"
      ],
      "metadata": {
        "id": "e5xwrWjvIwMY"
      }
    },
    {
      "cell_type": "code",
      "execution_count": 3,
      "metadata": {
        "id": "vBq4aEkJIgFh"
      },
      "outputs": [],
      "source": [
        "edad = 17\n",
        "\n",
        "if edad >=18: #True\n",
        "  print('Eres mayor de edad')\n"
      ]
    },
    {
      "cell_type": "code",
      "source": [
        "edad = 17\n",
        "\n",
        "if edad >= 18:\n",
        "  print('Eres mayor de edad')\n",
        "else:\n",
        "  print('Eres menor de edad')"
      ],
      "metadata": {
        "colab": {
          "base_uri": "https://localhost:8080/"
        },
        "id": "tk0PUBRfJHOP",
        "outputId": "2a3eb10e-6b09-48dc-e346-e8b560bfe4cc"
      },
      "execution_count": 2,
      "outputs": [
        {
          "output_type": "stream",
          "name": "stdout",
          "text": [
            "Eres menor de edad\n"
          ]
        }
      ]
    },
    {
      "cell_type": "code",
      "source": [
        "#V2 Mayor o menor de edad\n",
        "edad = int(input('¿Qué edad tienes? '))\n",
        "\n",
        "if edad >= 18:\n",
        "  print('Eres mayor de edad')\n",
        "else:\n",
        "  print('Eres menor de edad')"
      ],
      "metadata": {
        "colab": {
          "base_uri": "https://localhost:8080/"
        },
        "id": "pwPHVlyhKh3B",
        "outputId": "92a4d516-e224-4369-bad8-89901343b526"
      },
      "execution_count": 5,
      "outputs": [
        {
          "output_type": "stream",
          "name": "stdout",
          "text": [
            "¿Qué edad tienes? 60\n",
            "Eres mayor de edad\n"
          ]
        }
      ]
    },
    {
      "cell_type": "code",
      "source": [
        "#Valores str\n",
        "password = input('Introduce tu contraseña: ')\n",
        "\n",
        "if password == 'admin1234':\n",
        "  print('Contraseña válida')\n",
        "else:\n",
        "  print('Contraseña incorrecta')"
      ],
      "metadata": {
        "colab": {
          "base_uri": "https://localhost:8080/"
        },
        "id": "TFGCoOqePMyG",
        "outputId": "af87c54f-8a21-4c62-f03a-3769e03755d8"
      },
      "execution_count": 8,
      "outputs": [
        {
          "output_type": "stream",
          "name": "stdout",
          "text": [
            "Introduce tu contraseña: admin1234\n",
            "Contraseña válida\n"
          ]
        }
      ]
    },
    {
      "cell_type": "code",
      "source": [
        "#Valores float\n",
        "estatura = float(input('Introduce tu estatura en metros: '))\n",
        "\n",
        "if estatura > 1.19:\n",
        "  print('Te puedes subir al destroza cráneos')\n",
        "else:\n",
        "  print('No te puedes subir, intenta en el carrusel')"
      ],
      "metadata": {
        "colab": {
          "base_uri": "https://localhost:8080/"
        },
        "id": "xsPMqfAUQYOD",
        "outputId": "2c62de44-5a71-4c5e-e74d-b04d9db5225a"
      },
      "execution_count": 10,
      "outputs": [
        {
          "output_type": "stream",
          "name": "stdout",
          "text": [
            "Introduce tu estatura en metros: 1.64\n",
            "Te puedes subir al destroza cráneos\n"
          ]
        }
      ]
    }
  ]
}