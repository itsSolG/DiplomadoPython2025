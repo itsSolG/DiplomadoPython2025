{
  "nbformat": 4,
  "nbformat_minor": 0,
  "metadata": {
    "colab": {
      "provenance": [],
      "authorship_tag": "ABX9TyPFTUMthY0at0q+cDe52Ve1",
      "include_colab_link": true
    },
    "kernelspec": {
      "name": "python3",
      "display_name": "Python 3"
    },
    "language_info": {
      "name": "python"
    }
  },
  "cells": [
    {
      "cell_type": "markdown",
      "metadata": {
        "id": "view-in-github",
        "colab_type": "text"
      },
      "source": [
        "<a href=\"https://colab.research.google.com/github/itsSolG/DiplomadoPython2025/blob/main/PythonDiplomado_Sesion3_Loops.ipynb\" target=\"_parent\"><img src=\"https://colab.research.google.com/assets/colab-badge.svg\" alt=\"Open In Colab\"/></a>"
      ]
    },
    {
      "cell_type": "markdown",
      "source": [
        "#Bucle WHILE"
      ],
      "metadata": {
        "id": "2n_cBiLiG90M"
      }
    },
    {
      "cell_type": "markdown",
      "source": [
        "\n",
        "```\n",
        "while condicion: #Sintaxis\n",
        "    #Código que se ejecuta mientras la condición sea verdadera\n",
        "```\n",
        "\n"
      ],
      "metadata": {
        "id": "E25l3ROuIKJL"
      }
    },
    {
      "cell_type": "code",
      "source": [
        "while condicion: #Sintaxis\n",
        "    #Código que se ejecuta mientras la condición sea verdadera"
      ],
      "metadata": {
        "id": "oPJc881NJODg"
      },
      "execution_count": null,
      "outputs": []
    },
    {
      "cell_type": "markdown",
      "source": [
        "**Ejemplo 1.**"
      ],
      "metadata": {
        "id": "jBp0q55WI6ZU"
      }
    },
    {
      "cell_type": "code",
      "execution_count": null,
      "metadata": {
        "colab": {
          "base_uri": "https://localhost:8080/"
        },
        "collapsed": true,
        "id": "BrT-TAtGGENK",
        "outputId": "30617cae-c8cf-4193-f8cd-bf236207333e"
      },
      "outputs": [
        {
          "output_type": "stream",
          "name": "stdout",
          "text": [
            "Número = 1\n",
            "Número = 2\n",
            "Número = 3\n",
            "Número = 4\n",
            "Número = 5\n",
            "Número = 6\n",
            "Número = 7\n",
            "Número = 8\n",
            "Número = 9\n",
            "Número = 10\n"
          ]
        }
      ],
      "source": [
        "# Contador usando while\n",
        "\n",
        "numero = 1\n",
        "\n",
        "while numero <= 10:\n",
        "    print(f'Número = {numero}')\n",
        "    numero += 1\n",
        "\n"
      ]
    },
    {
      "cell_type": "markdown",
      "source": [
        "######**Ejemplo 2.**"
      ],
      "metadata": {
        "id": "Ohk7AoCFOLUo"
      }
    },
    {
      "cell_type": "code",
      "source": [
        "password = ''\n",
        "\n",
        "while password != 'Python123':\n",
        "    password = input('Ingresa tu contraseña: ')\n",
        "print('Acceso correcto')"
      ],
      "metadata": {
        "colab": {
          "base_uri": "https://localhost:8080/"
        },
        "id": "j_0H917UOQGA",
        "outputId": "2cc5de4a-6541-4723-8909-9a726a0956eb"
      },
      "execution_count": null,
      "outputs": [
        {
          "output_type": "stream",
          "name": "stdout",
          "text": [
            "Ingresa tu contraseña: 123\n",
            "Ingresa tu contraseña: 78\n",
            "Ingresa tu contraseña: python123\n",
            "Ingresa tu contraseña: Pyton123\n",
            "Ingresa tu contraseña: Python123\n",
            "Acceso correcto\n"
          ]
        }
      ]
    },
    {
      "cell_type": "code",
      "source": [
        "#Versión más común\n",
        "\n",
        "\n",
        "while True: #Otran forma de entrar al ciclo\n",
        "    entrada = input('Introduce tu contraseña: ')\n",
        "    if entrada == 'Python1':\n",
        "        print('Contraseña correcta ')\n",
        "        break # Sale del bucle si la contraseña es correcta\n",
        "    else:\n",
        "        ('Introduce la contraseña correcta, por favor')"
      ],
      "metadata": {
        "colab": {
          "base_uri": "https://localhost:8080/"
        },
        "id": "hHFsJbkiV6Vn",
        "outputId": "d9d13e26-3b9d-458f-8009-807e9dfe7091"
      },
      "execution_count": null,
      "outputs": [
        {
          "output_type": "stream",
          "name": "stdout",
          "text": [
            "Introduce tu contraseña: Python\n",
            "Introduce tu contraseña: Python1\n",
            "Contraseña correcta \n"
          ]
        }
      ]
    },
    {
      "cell_type": "code",
      "source": [
        "#Versión más común\n",
        "\n",
        "password = 'Python1'\n",
        "\n",
        "while True: #Otran forma de entrar al ciclo\n",
        "    entrada = input('Introduce tu contraseña: ')\n",
        "    if entrada == password:\n",
        "        print('Contraseña correcta ')\n",
        "        break # Sale del bucle si la contraseña es correcta\n",
        "    else:\n",
        "        ('Introduce la contraseña correcta, por favor')"
      ],
      "metadata": {
        "colab": {
          "base_uri": "https://localhost:8080/"
        },
        "id": "Up1q7D3BQBOt",
        "outputId": "9728efd6-6f4a-425d-af9b-6862877c6246"
      },
      "execution_count": null,
      "outputs": [
        {
          "output_type": "stream",
          "name": "stdout",
          "text": [
            "Introduce tu contraseña: Python1\n",
            "Contraseña correcta \n"
          ]
        }
      ]
    },
    {
      "cell_type": "markdown",
      "source": [
        "#Bucle For"
      ],
      "metadata": {
        "id": "mI40r0X-Z6Mk"
      }
    },
    {
      "cell_type": "code",
      "source": [
        "for variable in iterable: # (iterable: lista, string o el range())"
      ],
      "metadata": {
        "id": "NQGD-wbxZ_VK"
      },
      "execution_count": null,
      "outputs": []
    },
    {
      "cell_type": "code",
      "source": [
        "frutas = ['manzana', 'pera', 'naranja', 'uva']\n",
        "for fruta in frutas:\n",
        "    print(f'Fruta: {fruta}')"
      ],
      "metadata": {
        "colab": {
          "base_uri": "https://localhost:8080/"
        },
        "id": "MmSIhBz5atwM",
        "outputId": "9d885966-667f-45a4-ce17-1e7c68d3ac67"
      },
      "execution_count": null,
      "outputs": [
        {
          "output_type": "stream",
          "name": "stdout",
          "text": [
            "Fruta: manzana\n",
            "Fruta: pera\n",
            "Fruta: naranja\n",
            "Fruta: uva\n"
          ]
        }
      ]
    },
    {
      "cell_type": "markdown",
      "source": [
        "######*Reto*"
      ],
      "metadata": {
        "id": "ASK61KDSkxVr"
      }
    },
    {
      "cell_type": "code",
      "source": [
        "# Imprimir solo algunos datos de la lista\n",
        "tecnologias = ['Python', 'Java', 'Swift', 'JavaScript', 'Dart']\n",
        "\n",
        "for i, item in enumerate(tecnologias):\n",
        "    if i == 4:\n",
        "        break\n",
        "    print(item)"
      ],
      "metadata": {
        "colab": {
          "base_uri": "https://localhost:8080/"
        },
        "id": "BGjYpphve9Ly",
        "outputId": "62c6b7e3-7e19-4ee9-d07b-c7970d8a5225"
      },
      "execution_count": null,
      "outputs": [
        {
          "output_type": "stream",
          "name": "stdout",
          "text": [
            "Python\n",
            "Java\n",
            "Swift\n",
            "JavaScript\n"
          ]
        }
      ]
    },
    {
      "cell_type": "code",
      "source": [
        "# Otra posible solución - SLICING de listas Pythonic\n",
        "\n",
        "for i in tecnologias[:3]:\n",
        "    print(i)\n"
      ],
      "metadata": {
        "colab": {
          "base_uri": "https://localhost:8080/"
        },
        "id": "Ms4Ks1kMomyq",
        "outputId": "0e0a59bc-334c-4ce8-ee20-a061ae74d3e2"
      },
      "execution_count": null,
      "outputs": [
        {
          "output_type": "stream",
          "name": "stdout",
          "text": [
            "Python\n",
            "Java\n",
            "Swift\n"
          ]
        }
      ]
    },
    {
      "cell_type": "code",
      "source": [
        "#otra forma\n",
        "\n",
        "for i in range (4):\n",
        "    print(f'Tecnología: {tecnologias[i]}')"
      ],
      "metadata": {
        "colab": {
          "base_uri": "https://localhost:8080/"
        },
        "id": "eXjsEGugkwmj",
        "outputId": "ee60c5bd-abe2-4091-9067-9f0ab851aad6"
      },
      "execution_count": null,
      "outputs": [
        {
          "output_type": "stream",
          "name": "stdout",
          "text": [
            "Tecnología: Python\n",
            "Tecnología: Java\n",
            "Tecnología: Swift\n",
            "Tecnología: JavaScript\n"
          ]
        }
      ]
    },
    {
      "cell_type": "code",
      "source": [
        "for i in range(1,6):\n",
        "    print(f'Número: {i}')"
      ],
      "metadata": {
        "colab": {
          "base_uri": "https://localhost:8080/"
        },
        "id": "5Br-rXxMdIW6",
        "outputId": "eb7dc05d-647c-4326-c1f0-f8332a0a8669"
      },
      "execution_count": null,
      "outputs": [
        {
          "output_type": "stream",
          "name": "stdout",
          "text": [
            "Número: 1\n",
            "Número: 2\n",
            "Número: 3\n",
            "Número: 4\n",
            "Número: 5\n"
          ]
        }
      ]
    },
    {
      "cell_type": "code",
      "source": [
        "for i in range (10):\n",
        "    print('Hola')\n"
      ],
      "metadata": {
        "colab": {
          "base_uri": "https://localhost:8080/"
        },
        "id": "pOEtgKKGeKLt",
        "outputId": "271fdd2f-3e04-4bbc-b935-ac4d03511d92"
      },
      "execution_count": null,
      "outputs": [
        {
          "output_type": "stream",
          "name": "stdout",
          "text": [
            "Hola\n",
            "Hola\n",
            "Hola\n",
            "Hola\n",
            "Hola\n",
            "Hola\n",
            "Hola\n",
            "Hola\n",
            "Hola\n",
            "Hola\n"
          ]
        }
      ]
    },
    {
      "cell_type": "code",
      "source": [
        "#Utilizando el brake en for\n",
        "\n",
        "for i in range(1,11):\n",
        "    if i == 6:\n",
        "        break #detiene el ciclo cuando llega al 5\n",
        "    print(i)"
      ],
      "metadata": {
        "colab": {
          "base_uri": "https://localhost:8080/"
        },
        "id": "kI5S7PzPghe5",
        "outputId": "60bb87ff-dd92-458f-f937-c56ba1cb15e6"
      },
      "execution_count": null,
      "outputs": [
        {
          "output_type": "stream",
          "name": "stdout",
          "text": [
            "1\n",
            "2\n",
            "3\n",
            "4\n",
            "5\n"
          ]
        }
      ]
    },
    {
      "cell_type": "code",
      "source": [
        "for i in 'DACYTI':\n",
        "    print(i)"
      ],
      "metadata": {
        "colab": {
          "base_uri": "https://localhost:8080/"
        },
        "id": "pwj56mdAfvd0",
        "outputId": "693d108d-b83e-43fb-96c6-c8322bd1a2c6"
      },
      "execution_count": null,
      "outputs": [
        {
          "output_type": "stream",
          "name": "stdout",
          "text": [
            "D\n",
            "A\n",
            "C\n",
            "Y\n",
            "T\n",
            "I\n"
          ]
        }
      ]
    }
  ]
}